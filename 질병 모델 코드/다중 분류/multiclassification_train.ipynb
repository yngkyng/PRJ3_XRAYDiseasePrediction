{
 "cells": [
  {
   "cell_type": "code",
   "execution_count": 1,
   "metadata": {},
   "outputs": [],
   "source": [
    "import torch\n",
    "import torch.nn as nn\n",
    "from torch.utils.data import DataLoader\n",
    "from torchvision import models, transforms, datasets\n",
    "import cv2\n",
    "\n",
    "# GPU 사용 가능하면 GPU로 모델 이동\n",
    "device = torch.device('cuda' if torch.cuda.is_available() else 'cpu')"
   ]
  },
  {
   "cell_type": "code",
   "execution_count": 2,
   "metadata": {},
   "outputs": [],
   "source": [
    "# 학습 함수\n",
    "def train(model, dataloader, criterion, optimizer):\n",
    "    model.train()\n",
    "    running_loss = 0.0\n",
    "    for images, labels in dataloader:\n",
    "        images, labels = images.to(device), labels.to(device)\n",
    "\n",
    "        optimizer.zero_grad()\n",
    "        outputs = model(images)\n",
    "        loss = criterion(outputs, labels)\n",
    "        loss.backward()\n",
    "        optimizer.step()\n",
    "\n",
    "        running_loss += loss.item() * images.size(0)\n",
    "\n",
    "    epoch_loss = running_loss / len(dataloader.dataset)\n",
    "    return epoch_loss\n",
    "\n",
    "# 평가 함수\n",
    "def evaluate(model, dataloader, criterion):\n",
    "    model.eval()\n",
    "    running_loss = 0.0\n",
    "    correct_predictions = 0\n",
    "    total_predictions = 0\n",
    "\n",
    "    with torch.no_grad():\n",
    "        for images, labels in dataloader:\n",
    "            images, labels = images.to(device), labels.to(device)\n",
    "\n",
    "            outputs = model(images)\n",
    "            loss = criterion(outputs, labels)\n",
    "            _, predictions = torch.max(outputs, 1)\n",
    "\n",
    "            running_loss += loss.item() * images.size(0)\n",
    "            correct_predictions += (predictions == labels).sum().item()\n",
    "            total_predictions += labels.size(0)\n",
    "\n",
    "    epoch_loss = running_loss / len(dataloader.dataset)\n",
    "    accuracy = correct_predictions / total_predictions\n",
    "    return epoch_loss, accuracy"
   ]
  },
  {
   "cell_type": "code",
   "execution_count": 3,
   "metadata": {},
   "outputs": [],
   "source": [
    "# 이미지 추가 전처리\n",
    "def apply_gaussian_filter(image):\n",
    "    np_image = image.numpy()  # 텐서를 넘파이 배열로 변환\n",
    "    if len(np_image.shape) == 3:\n",
    "        np_image = np_image.transpose(1, 2, 0)  # 차원 변경 (C, H, W) -> (H, W, C)\n",
    "        filtered_image = cv2.GaussianBlur(np_image, (3, 3), 0)\n",
    "        filtered_image = filtered_image.transpose(2, 0, 1)  # 차원 변경 (H, W, C) -> (C, H, W)\n",
    "        return torch.from_numpy(filtered_image)  # 넘파이 배열을 텐서로 변환\n",
    "    else:\n",
    "        return image"
   ]
  },
  {
   "cell_type": "code",
   "execution_count": 4,
   "metadata": {},
   "outputs": [],
   "source": [
    "# 데이터 로딩 및 전처리\n",
    "transform = transforms.Compose([\n",
    "    transforms.Resize(256),\n",
    "    transforms.RandomRotation(degrees=30),\n",
    "    transforms.RandomHorizontalFlip(p=0.5),\n",
    "    transforms.RandomCrop(size=224),\n",
    "    transforms.ColorJitter(brightness=0.4, contrast=0.4, saturation=0.4, hue=0.1),\n",
    "    transforms.ToTensor(),\n",
    "    transforms.Lambda(lambda x: apply_gaussian_filter(x)), # 가우시안 필터링 적용\n",
    "    transforms.Normalize((0.5, 0.5, 0.5), (0.5, 0.5, 0.5))\n",
    "])\n",
    "\n",
    "# 데이터셋 로드\n",
    "train_dataset = datasets.ImageFolder(root='../data/Multi_classification/train', transform=transform)\n",
    "test_dataset = datasets.ImageFolder(root='../data/Multi_classification/test', transform=transform)\n",
    "\n",
    "batch_size = 32\n",
    "train_loader = DataLoader(train_dataset, batch_size=batch_size, shuffle=True)\n",
    "test_loader = DataLoader(test_dataset, batch_size=batch_size, shuffle=False)"
   ]
  },
  {
   "cell_type": "code",
   "execution_count": 5,
   "metadata": {},
   "outputs": [
    {
     "name": "stderr",
     "output_type": "stream",
     "text": [
      "C:\\Users\\tjoeun\\AppData\\Roaming\\Python\\Python39\\site-packages\\torchvision\\models\\_utils.py:208: UserWarning: The parameter 'pretrained' is deprecated since 0.13 and may be removed in the future, please use 'weights' instead.\n",
      "  warnings.warn(\n",
      "C:\\Users\\tjoeun\\AppData\\Roaming\\Python\\Python39\\site-packages\\torchvision\\models\\_utils.py:223: UserWarning: Arguments other than a weight enum or `None` for 'weights' are deprecated since 0.13 and may be removed in the future. The current behavior is equivalent to passing `weights=ShuffleNet_V2_X1_0_Weights.IMAGENET1K_V1`. You can also use `weights=ShuffleNet_V2_X1_0_Weights.DEFAULT` to get the most up-to-date weights.\n",
      "  warnings.warn(msg)\n"
     ]
    },
    {
     "name": "stdout",
     "output_type": "stream",
     "text": [
      "Epoch [1/30], Train Loss: 1.8017, Test Loss: 1.7232, Test Accuracy: 0.3711\n",
      "Epoch [2/30], Train Loss: 1.5290, Test Loss: 1.7418, Test Accuracy: 0.3867\n",
      "Epoch [3/30], Train Loss: 1.4125, Test Loss: 1.6201, Test Accuracy: 0.4200\n",
      "Epoch [4/30], Train Loss: 1.3380, Test Loss: 1.5501, Test Accuracy: 0.4689\n",
      "Epoch [5/30], Train Loss: 1.2858, Test Loss: 1.4861, Test Accuracy: 0.4844\n",
      "Epoch [6/30], Train Loss: 1.2574, Test Loss: 1.4874, Test Accuracy: 0.4689\n",
      "Epoch [7/30], Train Loss: 1.2086, Test Loss: 1.4238, Test Accuracy: 0.5067\n",
      "Epoch [8/30], Train Loss: 1.1893, Test Loss: 1.4325, Test Accuracy: 0.5200\n",
      "Epoch [9/30], Train Loss: 1.1363, Test Loss: 1.4902, Test Accuracy: 0.4533\n",
      "Epoch [10/30], Train Loss: 1.1325, Test Loss: 1.5177, Test Accuracy: 0.4556\n",
      "Epoch [11/30], Train Loss: 1.1003, Test Loss: 1.6394, Test Accuracy: 0.4756\n",
      "Epoch [12/30], Train Loss: 1.0764, Test Loss: 1.6476, Test Accuracy: 0.4889\n",
      "Epoch [13/30], Train Loss: 1.0453, Test Loss: 1.5594, Test Accuracy: 0.4844\n",
      "Epoch [14/30], Train Loss: 1.0273, Test Loss: 1.7488, Test Accuracy: 0.4511\n",
      "Epoch [15/30], Train Loss: 0.9929, Test Loss: 1.5938, Test Accuracy: 0.4800\n",
      "Epoch [16/30], Train Loss: 0.9810, Test Loss: 1.5881, Test Accuracy: 0.5022\n",
      "Epoch [17/30], Train Loss: 0.9623, Test Loss: 1.5502, Test Accuracy: 0.4978\n",
      "Epoch [18/30], Train Loss: 0.9428, Test Loss: 1.6079, Test Accuracy: 0.4822\n",
      "Epoch [19/30], Train Loss: 0.9178, Test Loss: 1.7984, Test Accuracy: 0.4644\n",
      "Epoch [20/30], Train Loss: 0.9005, Test Loss: 1.6875, Test Accuracy: 0.4844\n",
      "Epoch [21/30], Train Loss: 0.8666, Test Loss: 1.7884, Test Accuracy: 0.4489\n",
      "Epoch [22/30], Train Loss: 0.8360, Test Loss: 1.8392, Test Accuracy: 0.4222\n",
      "Epoch [23/30], Train Loss: 0.8368, Test Loss: 1.6715, Test Accuracy: 0.4822\n",
      "Epoch [24/30], Train Loss: 0.8128, Test Loss: 1.7839, Test Accuracy: 0.4689\n",
      "Epoch [25/30], Train Loss: 0.7678, Test Loss: 1.8751, Test Accuracy: 0.4622\n",
      "Epoch [26/30], Train Loss: 0.7317, Test Loss: 1.8140, Test Accuracy: 0.4756\n",
      "Epoch [27/30], Train Loss: 0.7489, Test Loss: 1.7785, Test Accuracy: 0.5244\n",
      "Epoch [28/30], Train Loss: 0.7179, Test Loss: 1.8594, Test Accuracy: 0.4889\n",
      "Epoch [29/30], Train Loss: 0.6760, Test Loss: 1.8378, Test Accuracy: 0.4711\n",
      "Epoch [30/30], Train Loss: 0.6884, Test Loss: 2.0631, Test Accuracy: 0.4844\n",
      "Epoch [1/30], Train Loss: 1.7815, Test Loss: 1.7338, Test Accuracy: 0.3956\n",
      "Epoch [2/30], Train Loss: 1.5151, Test Loss: 1.7052, Test Accuracy: 0.4022\n",
      "Epoch [3/30], Train Loss: 1.4068, Test Loss: 1.6123, Test Accuracy: 0.4333\n",
      "Epoch [4/30], Train Loss: 1.3488, Test Loss: 1.6569, Test Accuracy: 0.4089\n",
      "Epoch [5/30], Train Loss: 1.2864, Test Loss: 1.6775, Test Accuracy: 0.4244\n",
      "Epoch [6/30], Train Loss: 1.2595, Test Loss: 1.6300, Test Accuracy: 0.4444\n",
      "Epoch [7/30], Train Loss: 1.2179, Test Loss: 1.5103, Test Accuracy: 0.4556\n",
      "Epoch [8/30], Train Loss: 1.2134, Test Loss: 1.5840, Test Accuracy: 0.4689\n",
      "Epoch [9/30], Train Loss: 1.1597, Test Loss: 1.5366, Test Accuracy: 0.4444\n",
      "Epoch [10/30], Train Loss: 1.1349, Test Loss: 1.6073, Test Accuracy: 0.4689\n",
      "Epoch [11/30], Train Loss: 1.1144, Test Loss: 1.6200, Test Accuracy: 0.4600\n",
      "Epoch [12/30], Train Loss: 1.0785, Test Loss: 1.6078, Test Accuracy: 0.4644\n",
      "Epoch [13/30], Train Loss: 1.0753, Test Loss: 1.5504, Test Accuracy: 0.4911\n",
      "Epoch [14/30], Train Loss: 1.0487, Test Loss: 1.5185, Test Accuracy: 0.4667\n",
      "Epoch [15/30], Train Loss: 1.0329, Test Loss: 1.4992, Test Accuracy: 0.4822\n",
      "Epoch [16/30], Train Loss: 0.9830, Test Loss: 1.6597, Test Accuracy: 0.4444\n",
      "Epoch [17/30], Train Loss: 0.9705, Test Loss: 1.5033, Test Accuracy: 0.5111\n",
      "Epoch [18/30], Train Loss: 0.9478, Test Loss: 1.5657, Test Accuracy: 0.5111\n",
      "Epoch [19/30], Train Loss: 0.9288, Test Loss: 1.6157, Test Accuracy: 0.4733\n",
      "Epoch [20/30], Train Loss: 0.9062, Test Loss: 1.5738, Test Accuracy: 0.4867\n",
      "Epoch [21/30], Train Loss: 0.8964, Test Loss: 1.5793, Test Accuracy: 0.4911\n",
      "Epoch [22/30], Train Loss: 0.8659, Test Loss: 1.5833, Test Accuracy: 0.5133\n",
      "Epoch [23/30], Train Loss: 0.8401, Test Loss: 1.7571, Test Accuracy: 0.4711\n",
      "Epoch [24/30], Train Loss: 0.8218, Test Loss: 1.5635, Test Accuracy: 0.5067\n",
      "Epoch [25/30], Train Loss: 0.8066, Test Loss: 1.8345, Test Accuracy: 0.4644\n",
      "Epoch [26/30], Train Loss: 0.7757, Test Loss: 1.7378, Test Accuracy: 0.4911\n",
      "Epoch [27/30], Train Loss: 0.7707, Test Loss: 1.7219, Test Accuracy: 0.5111\n",
      "Epoch [28/30], Train Loss: 0.7362, Test Loss: 1.8826, Test Accuracy: 0.4556\n",
      "Epoch [29/30], Train Loss: 0.7286, Test Loss: 1.5958, Test Accuracy: 0.5067\n",
      "Epoch [30/30], Train Loss: 0.6835, Test Loss: 2.0222, Test Accuracy: 0.4578\n",
      "Epoch [1/30], Train Loss: 1.8136, Test Loss: 1.7407, Test Accuracy: 0.4022\n",
      "Epoch [2/30], Train Loss: 1.5218, Test Loss: 1.6404, Test Accuracy: 0.3800\n",
      "Epoch [3/30], Train Loss: 1.4165, Test Loss: 1.6040, Test Accuracy: 0.4222\n",
      "Epoch [4/30], Train Loss: 1.3398, Test Loss: 1.6190, Test Accuracy: 0.4311\n",
      "Epoch [5/30], Train Loss: 1.2949, Test Loss: 1.5745, Test Accuracy: 0.4489\n",
      "Epoch [6/30], Train Loss: 1.2545, Test Loss: 1.5541, Test Accuracy: 0.4578\n",
      "Epoch [7/30], Train Loss: 1.2234, Test Loss: 1.5904, Test Accuracy: 0.4422\n",
      "Epoch [8/30], Train Loss: 1.1920, Test Loss: 1.5811, Test Accuracy: 0.4267\n",
      "Epoch [9/30], Train Loss: 1.1429, Test Loss: 1.5072, Test Accuracy: 0.4622\n",
      "Epoch [10/30], Train Loss: 1.1364, Test Loss: 1.5479, Test Accuracy: 0.4689\n",
      "Epoch [11/30], Train Loss: 1.1035, Test Loss: 1.5704, Test Accuracy: 0.4689\n",
      "Epoch [12/30], Train Loss: 1.0856, Test Loss: 1.4491, Test Accuracy: 0.5133\n",
      "Epoch [13/30], Train Loss: 1.0517, Test Loss: 1.4306, Test Accuracy: 0.5156\n",
      "Epoch [14/30], Train Loss: 1.0392, Test Loss: 1.6402, Test Accuracy: 0.4822\n",
      "Epoch [15/30], Train Loss: 1.0069, Test Loss: 1.6386, Test Accuracy: 0.4689\n",
      "Epoch [16/30], Train Loss: 0.9736, Test Loss: 1.5980, Test Accuracy: 0.5000\n",
      "Epoch [17/30], Train Loss: 0.9658, Test Loss: 1.4810, Test Accuracy: 0.5178\n",
      "Epoch [18/30], Train Loss: 0.9479, Test Loss: 1.3902, Test Accuracy: 0.5400\n"
     ]
    }
   ],
   "source": [
    "# 모델 정확도가 일정 수준이 될 때까지\n",
    "test_accuracy = 0\n",
    "while test_accuracy < 0.54:\n",
    "    \n",
    "    # 모델 정의\n",
    "    model = models.shufflenet_v2_x1_0(pretrained=True)\n",
    "    num_classes = 9  # 분류할 클래스 수\n",
    "\n",
    "    # 마지막 레이어 수정 (다중 분류를 위한 출력 노드 수 변경)\n",
    "    model.fc = nn.Linear(model.fc.in_features, num_classes)\n",
    "\n",
    "    # 손실 함수와 옵티마이저 정의\n",
    "    criterion = nn.CrossEntropyLoss()\n",
    "    optimizer = torch.optim.Adam(model.parameters(), lr=0.001)\n",
    "\n",
    "    model.to(device)\n",
    "\n",
    "    # 학습 및 평가\n",
    "    num_epochs = 30\n",
    "    for epoch in range(num_epochs):\n",
    "        train_loss = train(model, train_loader, criterion, optimizer)\n",
    "        test_loss, test_accuracy = evaluate(model, test_loader, criterion)\n",
    "        print(f\"Epoch [{epoch+1}/{num_epochs}], Train Loss: {train_loss:.4f}, Test Loss: {test_loss:.4f}, Test Accuracy: {test_accuracy:.4f}\")\n",
    "\n",
    "        if test_accuracy >= 0.54:\n",
    "            break"
   ]
  },
  {
   "cell_type": "code",
   "execution_count": 6,
   "metadata": {},
   "outputs": [],
   "source": [
    "import torch\n",
    "from sklearn.metrics import confusion_matrix\n",
    "\n",
    "def calculate_confusion_matrix(model, dataloader, device):\n",
    "    model.eval()\n",
    "    all_predictions = []\n",
    "    all_labels = []\n",
    "\n",
    "    with torch.no_grad():\n",
    "        for inputs, labels in dataloader:\n",
    "            inputs = inputs.to(device)\n",
    "            labels = labels.to(device)\n",
    "\n",
    "            outputs = model(inputs)\n",
    "            _, predictions = torch.max(outputs, 1)\n",
    "\n",
    "            all_predictions.extend(predictions.cpu().numpy())\n",
    "            all_labels.extend(labels.cpu().numpy())\n",
    "\n",
    "    confusion_mat = confusion_matrix(all_labels, all_predictions)\n",
    "    return confusion_mat"
   ]
  },
  {
   "cell_type": "code",
   "execution_count": 7,
   "metadata": {},
   "outputs": [
    {
     "data": {
      "text/plain": [
       "array([[15,  4,  8,  8,  6,  3,  1,  5,  0],\n",
       "       [ 7, 33,  1,  3,  0,  5,  0,  1,  0],\n",
       "       [ 5,  2, 28,  5,  0,  1,  2,  7,  0],\n",
       "       [ 4,  3,  3, 26,  8,  4,  1,  0,  1],\n",
       "       [ 2,  2,  2,  5, 15,  7,  7,  8,  2],\n",
       "       [ 4,  2,  1,  5,  4, 20,  6,  3,  5],\n",
       "       [ 3,  2,  2,  5,  3,  7, 25,  3,  0],\n",
       "       [ 1,  3,  3,  2,  5,  7,  6, 22,  1],\n",
       "       [ 0,  0,  0,  0,  0,  0,  0,  0, 50]], dtype=int64)"
      ]
     },
     "execution_count": 7,
     "metadata": {},
     "output_type": "execute_result"
    }
   ],
   "source": [
    "calculate_confusion_matrix(model, test_loader, device)"
   ]
  },
  {
   "cell_type": "code",
   "execution_count": 8,
   "metadata": {},
   "outputs": [
    {
     "name": "stdout",
     "output_type": "stream",
     "text": [
      "tensor([-0.1203, -0.1653, -0.1512,  0.0428, -0.1532, -0.0063, -0.0070, -0.1020,\n",
      "        -0.0540, -0.0223], device='cuda:0', grad_fn=<SliceBackward0>)\n",
      "tensor([-6.4833e-03, -2.7859e-02,  2.7876e-02, -1.5922e-02,  3.5121e-02,\n",
      "        -2.6620e-02,  2.9105e-03, -1.6452e-02, -2.3733e-05], device='cuda:0',\n",
      "       grad_fn=<SliceBackward0>)\n"
     ]
    }
   ],
   "source": [
    "print(model.fc.weight[0][:10])\n",
    "print(model.fc.bias[:10])"
   ]
  },
  {
   "cell_type": "code",
   "execution_count": 9,
   "metadata": {},
   "outputs": [],
   "source": [
    "torch.save(model, 'MultiClassification.h5')"
   ]
  }
 ],
 "metadata": {
  "kernelspec": {
   "display_name": "base",
   "language": "python",
   "name": "python3"
  },
  "language_info": {
   "codemirror_mode": {
    "name": "ipython",
    "version": 3
   },
   "file_extension": ".py",
   "mimetype": "text/x-python",
   "name": "python",
   "nbconvert_exporter": "python",
   "pygments_lexer": "ipython3",
   "version": "3.9.13"
  },
  "orig_nbformat": 4
 },
 "nbformat": 4,
 "nbformat_minor": 2
}
