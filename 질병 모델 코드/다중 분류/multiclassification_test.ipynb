{
 "cells": [
  {
   "cell_type": "code",
   "execution_count": 1,
   "metadata": {},
   "outputs": [],
   "source": [
    "import torch\n",
    "import torchvision.transforms as transforms\n",
    "from PIL import Image\n",
    "import cv2\n",
    "\n",
    "device = torch.device('cuda' if torch.cuda.is_available() else 'cpu')"
   ]
  },
  {
   "cell_type": "code",
   "execution_count": 2,
   "metadata": {},
   "outputs": [],
   "source": [
    "# 이미지 추가 전처리\n",
    "def apply_gaussian_filter(image):\n",
    "    np_image = image.numpy()  # 텐서를 넘파이 배열로 변환\n",
    "    if len(np_image.shape) == 3:\n",
    "        np_image = np_image.transpose(1, 2, 0)  # 차원 변경 (C, H, W) -> (H, W, C)\n",
    "        filtered_image = cv2.GaussianBlur(np_image, (3, 3), 0)\n",
    "        filtered_image = filtered_image.transpose(2, 0, 1)  # 차원 변경 (H, W, C) -> (C, H, W)\n",
    "        return torch.from_numpy(filtered_image)  # 넘파이 배열을 텐서로 변환\n",
    "    else:\n",
    "        return image"
   ]
  },
  {
   "cell_type": "code",
   "execution_count": 3,
   "metadata": {},
   "outputs": [],
   "source": [
    "# 클래스명\n",
    "class_names = ['Atelectasis', 'Cardiomegaly', 'Edema',\n",
    "               'Effusion', 'Fibrosis', 'Normal',\n",
    "               'Pneumonia', 'Pneumothorax', 'Tuberculosis']\n",
    "\n",
    "# 데이터 로딩 및 전처리\n",
    "transform = transforms.Compose([\n",
    "    transforms.Resize(256),\n",
    "    transforms.RandomRotation(degrees=30),\n",
    "    transforms.RandomHorizontalFlip(p=0.5),\n",
    "    transforms.RandomCrop(size=224),\n",
    "    transforms.ColorJitter(brightness=0.4, contrast=0.4, saturation=0.4, hue=0.1),\n",
    "    transforms.ToTensor(),\n",
    "    transforms.Lambda(lambda x: apply_gaussian_filter(x)), # 가우시안 필터링 적용\n",
    "    transforms.Normalize((0.5, 0.5, 0.5), (0.5, 0.5, 0.5))\n",
    "])"
   ]
  },
  {
   "cell_type": "code",
   "execution_count": 4,
   "metadata": {},
   "outputs": [
    {
     "name": "stdout",
     "output_type": "stream",
     "text": [
      "Predicted Label : Normal\n"
     ]
    }
   ],
   "source": [
    "# 모델 정의 및 불러오기\n",
    "model = torch.load('MultiClassification.h5')\n",
    "model.to(device)\n",
    "model.eval()\n",
    "\n",
    "# 이미지 불러오기\n",
    "image = Image.open('../data/NIH_sampled/test/Mass/Normal/00000624_005.png')\n",
    "image = image.convert('RGB')\n",
    "input_image = transform(image).unsqueeze(0).to(device)\n",
    "\n",
    "# 예측 수행\n",
    "with torch.no_grad():\n",
    "    output = model(input_image)\n",
    "\n",
    "# 예측 결과 확인\n",
    "_, predicted_idx = torch.max(output, 1)\n",
    "predicted_label = class_names[predicted_idx.item()]\n",
    "print(f\"Predicted Label : {predicted_label}\")"
   ]
  }
 ],
 "metadata": {
  "kernelspec": {
   "display_name": "base",
   "language": "python",
   "name": "python3"
  },
  "language_info": {
   "codemirror_mode": {
    "name": "ipython",
    "version": 3
   },
   "file_extension": ".py",
   "mimetype": "text/x-python",
   "name": "python",
   "nbconvert_exporter": "python",
   "pygments_lexer": "ipython3",
   "version": "3.9.13"
  },
  "orig_nbformat": 4
 },
 "nbformat": 4,
 "nbformat_minor": 2
}
