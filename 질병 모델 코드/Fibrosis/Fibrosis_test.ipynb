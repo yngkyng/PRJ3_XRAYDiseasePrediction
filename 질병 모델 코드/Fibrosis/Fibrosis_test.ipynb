{
 "cells": [
  {
   "cell_type": "code",
   "execution_count": 8,
   "metadata": {},
   "outputs": [
    {
     "name": "stdout",
     "output_type": "stream",
     "text": [
      "Predicted Label: Fibrosis\n"
     ]
    }
   ],
   "source": [
    "import torch\n",
    "import torchvision.transforms as transforms\n",
    "from PIL import Image\n",
    "\n",
    "image_size = 224\n",
    "device = torch.device(\"cuda\" if torch.cuda.is_available() else \"cpu\")\n",
    "\n",
    "class_names = ['Fibrosis', 'Normal']\n",
    "\n",
    "preprocess = transforms.Compose([\n",
    "    transforms.Resize((image_size, image_size)),\n",
    "    transforms.ToTensor(),\n",
    "    transforms.Normalize(mean=[0.485, 0.456, 0.406], std=[0.229, 0.224, 0.225])\n",
    "])\n",
    "\n",
    "# 모델 정의 및 불러오기\n",
    "model = torch.load('Fibrosis.h5')\n",
    "\n",
    "model.to(device)\n",
    "model.eval()\n",
    "\n",
    "# 이미지 파일 불러오기\n",
    "image = Image.open('../data/NIH_sampled/test/Fibrosis/Fibrosis/00012728_000_flipped.png')  # 이미지 파일 경로 설정\n",
    "image = image.convert(\"RGB\")\n",
    "input_image = preprocess(image).unsqueeze(0).to(device)\n",
    "\n",
    "# 예측 수행\n",
    "with torch.no_grad():\n",
    "    output = model(input_image)\n",
    "\n",
    "# 예측 결과 확인\n",
    "_, predicted_idx = torch.max(output, 1)\n",
    "predicted_label = class_names[predicted_idx.item()]\n",
    "print(f\"Predicted Label: {predicted_label}\")"
   ]
  },
  {
   "cell_type": "code",
   "execution_count": null,
   "metadata": {},
   "outputs": [],
   "source": []
  }
 ],
 "metadata": {
  "kernelspec": {
   "display_name": "Python 3",
   "language": "python",
   "name": "python3"
  },
  "language_info": {
   "codemirror_mode": {
    "name": "ipython",
    "version": 3
   },
   "file_extension": ".py",
   "mimetype": "text/x-python",
   "name": "python",
   "nbconvert_exporter": "python",
   "pygments_lexer": "ipython3",
   "version": "3.11.3"
  },
  "orig_nbformat": 4
 },
 "nbformat": 4,
 "nbformat_minor": 2
}
