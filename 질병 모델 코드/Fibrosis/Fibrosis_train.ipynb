{
 "cells": [
  {
   "cell_type": "code",
   "execution_count": 1,
   "metadata": {},
   "outputs": [],
   "source": [
    "import torch\n",
    "import torch.nn as nn\n",
    "import torchvision.models as models\n",
    "import torchvision.transforms as transforms\n",
    "from torch.utils.data import DataLoader\n",
    "from torchvision.datasets import ImageFolder\n",
    "\n",
    "# 데이터셋 경로와 이미지 전처리 설정\n",
    "\n",
    "image_size = 224  # 모델에 맞는 이미지 크기로 조정\n",
    "batch_size = 32\n",
    "\n",
    "# 데이터 전처리 및 로드\n",
    "transform = transforms.Compose([\n",
    "    transforms.Resize((image_size, image_size)),\n",
    "    transforms.ToTensor(),\n",
    "    transforms.Normalize(mean=[0.485, 0.456, 0.406], std=[0.229, 0.224, 0.225])\n",
    "])\n",
    "\n",
    "train_dataset = ImageFolder(root=\"../data/NIH_sampled/train/Fibrosis/\", transform=transform)\n",
    "train_loader = DataLoader(train_dataset, batch_size=batch_size, shuffle=True)\n",
    "\n",
    "test_dataset = ImageFolder(root=\"../data/NIH_sampled/test/Fibrosis/\", transform=transform)\n",
    "test_loader = DataLoader(test_dataset, batch_size=batch_size, shuffle=False)\n",
    "\n",
    "# 디바이스 설정 (GPU를 사용하려면 \"cuda\"로 설정)\n",
    "device = torch.device(\"cuda\" if torch.cuda.is_available() else \"cpu\")\n"
   ]
  },
  {
   "cell_type": "code",
   "execution_count": 2,
   "metadata": {},
   "outputs": [],
   "source": [
    "# 학습 함수\n",
    "def train(model, dataloader, criterion, optimizer):\n",
    "    model.train()\n",
    "    running_loss = 0.0\n",
    "\n",
    "    for inputs, labels in dataloader:\n",
    "        inputs = inputs.to(device)\n",
    "        labels = labels.to(device)\n",
    "\n",
    "        optimizer.zero_grad()\n",
    "\n",
    "        outputs = model(inputs)\n",
    "        loss = criterion(outputs, labels)\n",
    "        loss.backward()\n",
    "        optimizer.step()\n",
    "\n",
    "        running_loss += loss.item() * inputs.size(0)\n",
    "\n",
    "    epoch_loss = running_loss / len(dataloader.dataset)\n",
    "    return epoch_loss\n",
    "\n",
    "# 평가 함수\n",
    "def evaluate(model, dataloader, criterion):\n",
    "    model.eval()\n",
    "    running_loss = 0.0\n",
    "    correct_predictions = 0\n",
    "\n",
    "    with torch.no_grad():\n",
    "        for inputs, labels in dataloader:\n",
    "            inputs = inputs.to(device)\n",
    "            labels = labels.to(device)\n",
    "\n",
    "            outputs = model(inputs)\n",
    "            loss = criterion(outputs, labels)\n",
    "\n",
    "            _, predicted = torch.max(outputs, 1)\n",
    "            correct_predictions += (predicted == labels).sum().item()\n",
    "\n",
    "            running_loss += loss.item() * inputs.size(0)\n",
    "\n",
    "    epoch_loss = running_loss / len(dataloader.dataset)\n",
    "    accuracy = correct_predictions / len(dataloader.dataset)\n",
    "    return epoch_loss, accuracy"
   ]
  },
  {
   "cell_type": "code",
   "execution_count": 6,
   "metadata": {},
   "outputs": [
    {
     "name": "stdout",
     "output_type": "stream",
     "text": [
      "Epoch 1/2\n",
      "Train Loss: 0.5529\n",
      "Test Loss: 0.4710\n",
      "Test Accuracy: 0.7100\n",
      "--------------------\n",
      "Epoch 2/2\n",
      "Train Loss: 0.4319\n",
      "Test Loss: 0.5230\n",
      "Test Accuracy: 0.7100\n",
      "--------------------\n",
      "Epoch 1/2\n",
      "Train Loss: 0.5506\n",
      "Test Loss: 1.2151\n",
      "Test Accuracy: 0.6000\n",
      "--------------------\n",
      "Epoch 2/2\n",
      "Train Loss: 0.4401\n",
      "Test Loss: 0.4027\n",
      "Test Accuracy: 0.8150\n",
      "--------------------\n"
     ]
    }
   ],
   "source": [
    "test_accuracy = 0\n",
    "while test_accuracy < 0.8:\n",
    "    # MobileNetV2 모델 불러오기\n",
    "    model = models.mobilenet_v2(pretrained=True)\n",
    "    num_ftrs = model.classifier[1].in_features\n",
    "    model.classifier[1] = nn.Linear(num_ftrs, 2)  # 이진 분류를 위해 출력 뉴런 수를 2로 설정\n",
    "\n",
    "    # 손실 함수 및 옵티마이저 정의\n",
    "    criterion = nn.CrossEntropyLoss()\n",
    "    optimizer = torch.optim.Adam(model.parameters(), lr=0.001)\n",
    "\n",
    "    model = model.to(device)\n",
    "\n",
    "    # 학습 및 평가\n",
    "    num_epochs = 2\n",
    "\n",
    "    for epoch in range(num_epochs):\n",
    "        train_loss = train(model, train_loader, criterion, optimizer)\n",
    "        test_loss, test_accuracy = evaluate(model, test_loader, criterion)\n",
    "\n",
    "        print(f\"Epoch {epoch+1}/{num_epochs}\")\n",
    "        print(f\"Train Loss: {train_loss:.4f}\")\n",
    "        print(f\"Test Loss: {test_loss:.4f}\")\n",
    "        print(f\"Test Accuracy: {test_accuracy:.4f}\")\n",
    "        print(\"--------------------\")\n",
    "\n",
    "        if test_accuracy >= 0.8:\n",
    "            break"
   ]
  },
  {
   "cell_type": "code",
   "execution_count": null,
   "metadata": {},
   "outputs": [
    {
     "name": "stdout",
     "output_type": "stream",
     "text": [
      "Confusion Matrix:\n",
      "[[65 35]\n",
      " [15 85]]\n"
     ]
    }
   ],
   "source": [
    "import torch\n",
    "import numpy as np\n",
    "from sklearn.metrics import confusion_matrix\n",
    "\n",
    "device = torch.device(\"cuda\" if torch.cuda.is_available() else \"cpu\")\n",
    "\n",
    "# 예측 함수\n",
    "def predict(model, dataloader):\n",
    "    model.eval()\n",
    "    all_predictions = []\n",
    "    all_labels = []\n",
    "\n",
    "    with torch.no_grad():\n",
    "        for inputs, labels in dataloader:\n",
    "            inputs = inputs.to(device)\n",
    "            labels = labels.to(device)\n",
    "\n",
    "            outputs = model(inputs)\n",
    "            _, predicted = torch.max(outputs, 1)\n",
    "\n",
    "            all_predictions.extend(predicted.cpu().numpy())\n",
    "            all_labels.extend(labels.cpu().numpy())\n",
    "\n",
    "    return all_predictions, all_labels\n",
    "\n",
    "# 테스트 데이터셋에 대한 예측 수행\n",
    "predictions, labels = predict(model, test_loader)\n",
    "\n",
    "# Confusion Matrix 계산\n",
    "cm = confusion_matrix(labels, predictions)\n",
    "\n",
    "print(\"Confusion Matrix:\")\n",
    "print(cm)"
   ]
  },
  {
   "cell_type": "code",
   "execution_count": 7,
   "metadata": {},
   "outputs": [
    {
     "name": "stdout",
     "output_type": "stream",
     "text": [
      "tensor([-0.0229,  0.0066, -0.0202, -0.0220,  0.0054, -0.0131, -0.0184,  0.0136,\n",
      "         0.0246,  0.0046], grad_fn=<SliceBackward0>)\n",
      "tensor([-0.0172, -0.0092], grad_fn=<SliceBackward0>)\n"
     ]
    }
   ],
   "source": [
    "print(model.classifier[1].weight[0][:10])\n",
    "print(model.classifier[1].bias[:10])"
   ]
  },
  {
   "cell_type": "code",
   "execution_count": 8,
   "metadata": {},
   "outputs": [],
   "source": [
    "torch.save(model, 'Fibrosis.h5')\n",
    "# 정확도 : 0.815"
   ]
  },
  {
   "cell_type": "code",
   "execution_count": null,
   "metadata": {},
   "outputs": [],
   "source": []
  }
 ],
 "metadata": {
  "kernelspec": {
   "display_name": "Python 3",
   "language": "python",
   "name": "python3"
  },
  "language_info": {
   "codemirror_mode": {
    "name": "ipython",
    "version": 3
   },
   "file_extension": ".py",
   "mimetype": "text/x-python",
   "name": "python",
   "nbconvert_exporter": "python",
   "pygments_lexer": "ipython3",
   "version": "3.11.3"
  },
  "orig_nbformat": 4
 },
 "nbformat": 4,
 "nbformat_minor": 2
}
