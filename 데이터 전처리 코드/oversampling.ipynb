{
 "cells": [
  {
   "cell_type": "code",
   "execution_count": 3,
   "metadata": {},
   "outputs": [],
   "source": [
    "# import\n",
    "from PIL import Image\n",
    "import os\n",
    "import glob"
   ]
  },
  {
   "cell_type": "code",
   "execution_count": 2,
   "metadata": {},
   "outputs": [],
   "source": [
    "# flip 함수\n",
    "def flip_and_save_image(image_path, output_path):\n",
    "    image = Image.open(image_path)\n",
    "    flipped_image = image.transpose(Image.FLIP_LEFT_RIGHT)\n",
    "    output_dir, output_filename = os.path.split(output_path)\n",
    "    os.makedirs(output_dir, exist_ok=True)\n",
    "    flipped_image.save(output_path)"
   ]
  },
  {
   "cell_type": "code",
   "execution_count": 4,
   "metadata": {},
   "outputs": [],
   "source": [
    "# 디렉토리 선정\n",
    "image_paths = glob.glob(\"C:/image_project/non_git/data/Part2/Emphysema/*.png\")\n",
    "output_dir = \"C:/image_project/non_git/data/Part2/Emphysema/\""
   ]
  },
  {
   "cell_type": "code",
   "execution_count": 5,
   "metadata": {},
   "outputs": [
    {
     "name": "stderr",
     "output_type": "stream",
     "text": [
      "C:\\Users\\tjoeun\\AppData\\Local\\Temp\\ipykernel_1564\\2139127567.py:3: DeprecationWarning: FLIP_LEFT_RIGHT is deprecated and will be removed in Pillow 10 (2023-07-01). Use Transpose.FLIP_LEFT_RIGHT instead.\n",
      "  flipped_image = image.transpose(Image.FLIP_LEFT_RIGHT)\n"
     ]
    }
   ],
   "source": [
    "# 오버샘플링\n",
    "for image_path in image_paths:\n",
    "    filename, extension = os.path.splitext(os.path.basename(image_path))\n",
    "    output_path = os.path.join(output_dir, filename + '_flipped' + extension)\n",
    "    flip_and_save_image(image_path, output_path)"
   ]
  },
  {
   "cell_type": "code",
   "execution_count": 6,
   "metadata": {},
   "outputs": [
    {
     "name": "stderr",
     "output_type": "stream",
     "text": [
      "C:\\Users\\tjoeun\\AppData\\Local\\Temp\\ipykernel_1564\\2139127567.py:3: DeprecationWarning: FLIP_LEFT_RIGHT is deprecated and will be removed in Pillow 10 (2023-07-01). Use Transpose.FLIP_LEFT_RIGHT instead.\n",
      "  flipped_image = image.transpose(Image.FLIP_LEFT_RIGHT)\n"
     ]
    }
   ],
   "source": [
    "image_paths = glob.glob(\"C:/image_project/non_git/data/Part2/Fibrosis/*.png\")\n",
    "output_dir = \"C:/image_project/non_git/data/Part2/Fibrosis/\"\n",
    "for image_path in image_paths:\n",
    "    filename, extension = os.path.splitext(os.path.basename(image_path))\n",
    "    output_path = os.path.join(output_dir, filename + '_flipped' + extension)\n",
    "    flip_and_save_image(image_path, output_path)"
   ]
  },
  {
   "cell_type": "code",
   "execution_count": 7,
   "metadata": {},
   "outputs": [
    {
     "name": "stderr",
     "output_type": "stream",
     "text": [
      "C:\\Users\\tjoeun\\AppData\\Local\\Temp\\ipykernel_1564\\2139127567.py:3: DeprecationWarning: FLIP_LEFT_RIGHT is deprecated and will be removed in Pillow 10 (2023-07-01). Use Transpose.FLIP_LEFT_RIGHT instead.\n",
      "  flipped_image = image.transpose(Image.FLIP_LEFT_RIGHT)\n"
     ]
    }
   ],
   "source": [
    "image_paths = glob.glob(\"C:/image_project/non_git/data/Part3/Edema/*.png\")\n",
    "output_dir = \"C:/image_project/non_git/data/Part3/Edema/\"\n",
    "for image_path in image_paths:\n",
    "    filename, extension = os.path.splitext(os.path.basename(image_path))\n",
    "    output_path = os.path.join(output_dir, filename + '_flipped' + extension)\n",
    "    flip_and_save_image(image_path, output_path)"
   ]
  },
  {
   "cell_type": "code",
   "execution_count": null,
   "metadata": {},
   "outputs": [],
   "source": []
  }
 ],
 "metadata": {
  "kernelspec": {
   "display_name": "base",
   "language": "python",
   "name": "python3"
  },
  "language_info": {
   "codemirror_mode": {
    "name": "ipython",
    "version": 3
   },
   "file_extension": ".py",
   "mimetype": "text/x-python",
   "name": "python",
   "nbconvert_exporter": "python",
   "pygments_lexer": "ipython3",
   "version": "3.9.13"
  },
  "orig_nbformat": 4
 },
 "nbformat": 4,
 "nbformat_minor": 2
}
