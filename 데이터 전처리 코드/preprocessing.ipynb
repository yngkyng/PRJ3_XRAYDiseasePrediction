{
 "cells": [
  {
   "cell_type": "code",
   "execution_count": 2,
   "metadata": {},
   "outputs": [],
   "source": [
    "# import\n",
    "import pandas as pd\n",
    "import os\n",
    "import shutil"
   ]
  },
  {
   "cell_type": "code",
   "execution_count": 3,
   "metadata": {},
   "outputs": [],
   "source": [
    "# 데이터 엔트리 불러오기\n",
    "df = pd.read_excel('D:/BigData/NIH/Data_Entry_2017.xlsx')"
   ]
  },
  {
   "cell_type": "code",
   "execution_count": 5,
   "metadata": {},
   "outputs": [],
   "source": [
    "# 각 Label별 이미지 파일명 리스트 생성\n",
    "Normal = list(df[df['Finding Labels']=='No Finding']['Image Index'])\n",
    "Atelectasis = list(df[df['Finding Labels'] == 'Atelectasis']['Image Index'])\n",
    "Cardiomegaly = list(df[df['Finding Labels'] == 'Cardiomegaly']['Image Index'])\n",
    "Effusion = list(df[df['Finding Labels'] == 'Effusion']['Image Index'])\n",
    "Infiltration = list(df[df['Finding Labels'] == 'Infiltration']['Image Index'])\n",
    "Mass = list(df[df['Finding Labels'] == 'Mass']['Image Index'])\n",
    "Nodule = list(df[df['Finding Labels'] == 'Nodule']['Image Index'])\n",
    "Pneumonia = list(df[df['Finding Labels'] == 'Pneumonia']['Image Index'])\n",
    "Pneumothorax = list(df[df['Finding Labels'] == 'Pneumothorax']['Image Index'])\n",
    "Consolidation = list(df[df['Finding Labels'] == 'Consolidation']['Image Index'])\n",
    "Edema = list(df[df['Finding Labels'] == 'Edema']['Image Index'])\n",
    "Emphysema = list(df[df['Finding Labels'] == 'Emphysema']['Image Index'])\n",
    "Fibrosis = list(df[df['Finding Labels'] == 'Fibrosis']['Image Index'])\n",
    "Pleural_Thickening = list(df[df['Finding Labels'] == 'Pleural Thickening']['Image Index'])\n",
    "Hernia = list(df[df['Finding Labels'] == 'Hernia']['Image Index'])"
   ]
  },
  {
   "cell_type": "code",
   "execution_count": 6,
   "metadata": {},
   "outputs": [],
   "source": [
    "src1 = 'd:/BigData/NIH/images_001/images' # 이미지 파일 불러올 디렉토리\n",
    "src2 = 'd:/BigData/NIH/images_002/images'\n",
    "src3 = 'd:/BigData/NIH/images_003/images'\n",
    "src4 = 'd:/BigData/NIH/images_004/images'\n",
    "src5 = 'd:/BigData/NIH/images_005/images'\n",
    "src6 = 'd:/BigData/NIH/images_006/images'\n",
    "src7 = 'd:/BigData/NIH/images_007/images'\n",
    "src8 = 'd:/BigData/NIH/images_008/images'\n",
    "src9 = 'd:/BigData/NIH/images_009/images'\n",
    "src10 = 'd:/BigData/NIH/images_010/images'\n",
    "src11 = 'd:/BigData/NIH/images_011/images'\n",
    "src12 = 'd:/BigData/NIH/images_012/images'\n",
    "\n",
    "dst1 = 'd:/BigData/NIH_classified/images/Normal' # 이미지 파일 저장할 디렉토리\n",
    "dst2 = 'd:/BigData/NIH_classified/images/Atelectasis'\n",
    "dst3 = 'd:/BigData/NIH_classified/images/Cardiomegaly'\n",
    "dst4 = 'd:/BigData/NIH_classified/images/Effusion'\n",
    "dst5 = 'd:/BigData/NIH_classified/images/Infiltration'\n",
    "dst6 = 'd:/BigData/NIH_classified/images/Mass'\n",
    "dst7 = 'd:/BigData/NIH_classified/images/Nodule'\n",
    "dst8 = 'd:/BigData/NIH_classified/images/Pneumonia'\n",
    "dst9 = 'd:/BigData/NIH_classified/images/Pneumothorax'\n",
    "dst10 = 'd:/BigData/NIH_classified/images/Consolidation'\n",
    "dst11 = 'd:/BigData/NIH_classified/images/Edema'\n",
    "dst12 = 'd:/BigData/NIH_classified/images/Emphysema'\n",
    "dst13 = 'd:/BigData/NIH_classified/images/Fibrosis'\n",
    "dst14 = 'd:/BigData/NIH_classified/images/Pleural_Thickening'\n",
    "dst15 = 'd:/BigData/NIH_classified/images/Hernia'"
   ]
  },
  {
   "cell_type": "code",
   "execution_count": 7,
   "metadata": {},
   "outputs": [],
   "source": [
    "# 분류된 이미지 파일명 리스트의 마지막에 이미지 저장 경로를 추가\n",
    "Normal.append(dst1)\n",
    "Atelectasis.append(dst2)\n",
    "Cardiomegaly.append(dst3)\n",
    "Effusion.append(dst4)\n",
    "Infiltration.append(dst5)\n",
    "Mass.append(dst6)\n",
    "Nodule.append(dst7)\n",
    "Pneumonia.append(dst8)\n",
    "Pneumothorax.append(dst9)\n",
    "Consolidation.append(dst10)\n",
    "Edema.append(dst11)\n",
    "Emphysema.append(dst12)\n",
    "Fibrosis.append(dst13)\n",
    "Pleural_Thickening.append(dst14)\n",
    "Hernia.append(dst15)"
   ]
  },
  {
   "cell_type": "code",
   "execution_count": 8,
   "metadata": {},
   "outputs": [],
   "source": [
    "# 이미지 파일명 리스트의 리스트\n",
    "Diseases = [Normal, Atelectasis, Cardiomegaly, Effusion, Infiltration, Mass, Nodule, Pneumonia, Pneumothorax, Consolidation, Edema, Emphysema, Fibrosis, Pleural_Thickening, Hernia]\n",
    "# 이미지 로드할 디렉토리 리스트\n",
    "src_folders = [src1, src2, src3, src4, src5, src6, src7, src8, src9, src10, src11, src12 ]"
   ]
  },
  {
   "cell_type": "code",
   "execution_count": null,
   "metadata": {},
   "outputs": [],
   "source": [
    "# 이미지 로드해서 분류한 후 각각의 디렉토리로 저장\n",
    "for src in src_folders:\n",
    "    for disease in Diseases:\n",
    "        for file_name in disease:\n",
    "            if file_name == disease[-1]:\n",
    "                break\n",
    "            img_src = src + '/' + file_name\n",
    "            img_dst = disease[-1] + '/' + file_name\n",
    "            os.makedirs(os.path.dirname(disease[-1] + '/'), exist_ok=True)\n",
    "            print(src)\n",
    "            print(img_src)\n",
    "            print(img_dst)\n",
    "            try:\n",
    "                shutil.copyfile(img_src, img_dst)\n",
    "                print(f\"File copied: {img_src} -> {img_dst}\")\n",
    "            except FileNotFoundError: \n",
    "                print('error')\n",
    "                continue"
   ]
  }
 ],
 "metadata": {
  "kernelspec": {
   "display_name": "base",
   "language": "python",
   "name": "python3"
  },
  "language_info": {
   "codemirror_mode": {
    "name": "ipython",
    "version": 3
   },
   "file_extension": ".py",
   "mimetype": "text/x-python",
   "name": "python",
   "nbconvert_exporter": "python",
   "pygments_lexer": "ipython3",
   "version": "3.9.13"
  },
  "orig_nbformat": 4
 },
 "nbformat": 4,
 "nbformat_minor": 2
}
